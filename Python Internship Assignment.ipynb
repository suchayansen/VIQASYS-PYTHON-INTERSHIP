{
 "cells": [
  {
   "cell_type": "markdown",
   "metadata": {},
   "source": [
    "___\n",
    "\n",
    "<a href='https://viqasys.com/wp-content/uploads/2021/07/ns1.png'><img src='https://viqasys.com/wp-content/uploads/2021/07/ns1.png'/></a>\n",
    "___\n",
    "<center><em>Content Copyright VIQASYS INNOVATIONS PVT LTD.</em></center>\n",
    "\n",
    "# Assignment 1"
   ]
  },
  {
   "cell_type": "markdown",
   "metadata": {},
   "source": [
    "# Question 1\n",
    "\n",
    "In the below elements, identify which of them are values or expressions. Values can be integers or strings, while expressions will be mathematical operators or combinations thereof.\r\n",
    "'hello', \n",
    "-87., ), o, lu, alu, ssion)'(Value))str\" (Value)"
   ]
  },
  {
   "cell_type": "markdown",
   "metadata": {},
   "source": [
    "1. 'hello' - This is a string value.\n",
    "2. -87. - This is a floating-point number value.\n",
    "3. ) - This is a closing parenthesis, not a value or expression by itself.\n",
    "4. o - It seems like it's a variable name or an identifier, not a value or expression.\n",
    "5. lu - It seems like it's another variable name or identifier, not a value or expression.\n",
    "6. alu - It seems like it's yet another variable name or identifier, not a value or expression.\n",
    "7. sion)'(Value))str - This seems like a combination of characters, possibly meant to represent a string value.\n",
    "8. (Value) - This seems like it's part of an expression, possibly representing a value within parentheses.\n",
    "9. str - This seems like a string value.\n",
    "So, in summary:\n",
    "\n",
    "Values: 'hello', -87., 'ssion)'(Value))str\", (Value), \"str\"\n",
    "Expressions: None"
   ]
  },
  {
   "cell_type": "markdown",
   "metadata": {},
   "source": [
    "## Question 2\n",
    "\n",
    "Explain the difference between a string and a variable.\n"
   ]
  },
  {
   "cell_type": "markdown",
   "metadata": {},
   "source": [
    "A string and a variable are both fundamental concepts in programming, but they serve different purposes.\r\n",
    "1. \r\n",
    "Stri:: A string is a data type used to represent a sequence of characters. These characters can be letters, numbers, symbols, or even spaces. In most programming languages, strings are typically enclosed within quotation marks (e.g., \"Hello, World!\"). Strings allow programmers to work with textual data, manipulate it, and display it to users. Examples of string operations include concatenation (joining strings together), slicing (extracting parts of a string), and searching within a string\n",
    "2. \r\n",
    "\r\n",
    "Variable: A variable is a symbolic name or identifier that represents a value stored in computer memory. Variables are used to store and manipulate data within a program. Unlike constants, which hold fixed values, variables can hold different values during the execution of a program. Variables have a data type associated with them, which determines the type of data they can store. This data type can be a string, integer, floating-point number, boolean, etc. Variables provide flexibility and allow programmers to write more dynamic and reusable code.\r\n",
    "\r\n",
    "In summary, the key difference between a string and a variable lies in their roles and functionalities within a program. A string represents textual data, while a variable is a placeholder for storing various types of data, including strings."
   ]
  },
  {
   "cell_type": "markdown",
   "metadata": {},
   "source": [
    "## Question 3\n",
    "Describe three different data types commonly used in programming"
   ]
  },
  {
   "cell_type": "markdown",
   "metadata": {},
   "source": [
    "1. Integer (int):\n",
    "An integer data type represents whole numbers without any fractional component.\n",
    "Integers can be positive, negative, or zero.\n",
    "Examples of integers include: -3, 0, 42, 1001, etc.\n",
    "In most programming languages, integers have a fixed size, typically determined by the underlying hardware architecture (e.g., 32-bit or 64-bit integers).\n",
    "\n",
    "2. String:\n",
    "A string data type represents a sequence of characters.\n",
    "Characters within a string can include letters, digits, symbols, and spaces.\n",
    "Strings are typically enclosed within single (' ') or double (\" \") quotation marks.\n",
    "Examples of strings include: \"hello\", 'world', \"123abc\", etc.\n",
    "Strings are widely used for representing text data, such as input from users, file contents, or messages displayed to users.\n",
    "\n",
    "3. Boolean (bool):\n",
    "A boolean data type represents a binary value indicating either true or false.\n",
    "Booleans are useful for expressing logical conditions and making decisions in programs.\n",
    "Booleans are often the result of comparison operations or logical operations.\n",
    "Examples of boolean values include: true and false.\n",
    "Booleans are fundamental for controlling the flow of programs through conditional statements like if-else statements and loops."
   ]
  },
  {
   "cell_type": "markdown",
   "metadata": {},
   "source": [
    "## Question 4\n",
    "What is an expression made up of? What is the general purpose of expressions?\n"
   ]
  },
  {
   "cell_type": "markdown",
   "metadata": {},
   "source": [
    "An expression in programming is made up of one or more operands combined with operators to produce a value.\n",
    "\n",
    "    The general purpose of expressions in programming is multifaceted:\n",
    "\n",
    "1. Evaluation: Expressions are evaluated to produce a single value. This value could be a number, a boolean,\n",
    "a string, or any other data type depending on the types of operands and operators involved. For example, the expression 2 + 3 evaluates to 5.\n",
    "\n",
    "2. Computation: Expressions are used to perform computations and mathematical operations.\n",
    "They allow programmers to manipulate data and perform calculations necessary for various tasks within a program.\n",
    "\n",
    "3. Decision Making: Expressions are used in conditional statements (such as if statements) and loops to determine control flow.\n",
    "Boolean expressions, for instance, are used to make decisions based on whether certain conditions are true or false.\n",
    "\n",
    "4. Assignment: Expressions are used in assignment statements to assign values to variables.\n",
    "The right-hand side of an assignment statement often involves an expression that computes the value to be stored in the variable on the left-hand side.\n",
    "\n",
    "5. Function Calls: Expressions can be used to call functions or methods. \n",
    "The arguments passed to a function call are often expressions, and the returned value (if any) can be used in further expressions or assignments."
   ]
  },
  {
   "cell_type": "markdown",
   "metadata": {},
   "source": [
    "## Question 5\n",
    "\n",
    "Explain the difference between an expression and a statement, using examples if necessary."
   ]
  },
  {
   "cell_type": "markdown",
   "metadata": {},
   "source": [
    "1. Expression:\n",
    "An expression is a combination of values, variables, operators, and function calls that evaluates to a single value.\n",
    "Expressions can be as simple as a single constant value or as complex as a nested combination of operators and operands.\n",
    "They can be used wherever a value is expected, such as in assignments, function arguments, conditional expressions, and more.\n",
    "Examples:\n",
    "2 + 3 (evaluates to 5)\n",
    "x * y (evaluates to the product of variables x and y)\n",
    "my_function(4) (evaluates to the return value of the function my_function with an argument of 4)\n",
    "\n",
    "2. Statement:\n",
    "A statement is a complete instruction that performs some action when executed.\n",
    "Unlike expressions, statements do not necessarily evaluate to a value.\n",
    "Statements are typically composed of expressions but can also include keywords, control structures, and other constructs specific to the programming language.\n",
    "They can be assignments, control flow structures (like if statements, loops), function declarations, and more.\n",
    "Examples:\n",
    "x = 5 (assignment statement)\n",
    "if x > 0: print(\"Positive\") (if statement)\n",
    "for i in range(5): print(i) (for loop)\n",
    "def my_function(x): return x * 2 (function declaration)"
   ]
  },
  {
   "cell_type": "markdown",
   "metadata": {},
   "source": [
    "## Question 6\n",
    "After running the following code, what does the variable \"bacon\" contain?\n",
    "\n",
    "bacon = 22 <br>\n",
    "\n",
    "bacon + 1"
   ]
  },
  {
   "cell_type": "markdown",
   "metadata": {},
   "source": [
    "After running the code provided:\n",
    "bacon = 22\n",
    "bacon + 1\n",
    "The variable \"bacon\" still contains the value 22.\n",
    "Here's the breakdown:\n",
    "\n",
    "The first line assigns the value 22 to the variable \"bacon\".\n",
    "The second line calculates the expression \"bacon + 1\", which evaluates to 23. However, \n",
    "this expression result isn't stored anywhere or used in any way, so it doesn't affect the value stored in the variable \"bacon\".\n",
    "\n",
    "Therefore, after running the code, the variable \"bacon\" remains unchanged and contains the value 22.Here's the breakdown:"
   ]
  },
  {
   "cell_type": "markdown",
   "metadata": {},
   "source": [
    "## Question 7\n",
    "Determine the values of the following two terms:<br>\n",
    "'spam' + 'spamspam'<br>\r\n",
    "'spam' * 3\r\n",
    "\n"
   ]
  },
  {
   "cell_type": "markdown",
   "metadata": {},
   "source": [
    "1. 'spam' + 'spamspam':\n",
    "Here, 'spam' is a string literal.\n",
    "'spamspam' is also a string literal.\n",
    "The + operator concatenates the two strings together.\n",
    "So, 'spam' + 'spamspam' results in the string 'spamspamspam'.\n",
    "\n",
    "2. 'spam' * 3:\n",
    "Here, 'spam' is a string literal.\n",
    "The * operator repeats the string 'spam' three times.\n",
    "So, 'spam' * 3 results in the string 'spamspamspam'."
   ]
  },
  {
   "cell_type": "markdown",
   "metadata": {},
   "source": [
    "## Question 8\n",
    "\n",
    "Why is \"eggs\" a valid variable name while \"100\" is invalid?"
   ]
  },
  {
   "cell_type": "markdown",
   "metadata": {},
   "source": [
    "In programming, variable names need to follow certain rules and conventions defined by the programming language. \n",
    "1. Naming Conventions:\n",
    "\n",
    "Variable names typically cannot start with a digit.\n",
    "They often need to start with a letter (either uppercase or lowercase) or an underscore (_) in many programming languages.\n",
    "Following this convention helps distinguish variables from numerical literals and makes code more readable.\n",
    "\n",
    "2. Identifiers:\n",
    "\n",
    "Variable names are identifiers used to represent memory locations where data can be stored.\n",
    "\"eggs\" adheres to the rules for identifiers because it starts with a letter and contains only letters\n",
    "(though it can contain numbers and underscores too, just not as the first character).\n",
    "\"100\" does not follow the convention because it starts with a digit, violating the rules for identifiers in most programming languages.\n",
    "\n",
    "3. Interpretation:\n",
    "\n",
    "In programming, \"100\" without quotes is generally interpreted as a numerical literal representing the integer value 100.\n",
    "However, when used as a variable name (e.g., 100 = 5), it can be confusing and lead to syntax errors\n",
    "because it's interpreted as an attempt to assign a value to a constant or a number, which is usually not allowed.\n",
    "\n",
    "eggs = 42  # Valid variable assignment\n",
    "print(eggs)  # Output: 42\n",
    "\n",
    "100 = 42  # Invalid variable assignment, results in a syntax error"
   ]
  },
  {
   "cell_type": "markdown",
   "metadata": {},
   "source": [
    "## Question 9\n",
    "\n",
    "List three functions that can be used to obtain the integer, floating-point number, or string version of a value."
   ]
  },
  {
   "cell_type": "markdown",
   "metadata": {},
   "source": [
    "1. Integer Conversion:\n",
    "\n",
    "int(): This function converts a value to an integer. If the value is a floating-point number, \n",
    "it truncates towards zero. If the value is a string, it attempts to parse it as an integer.\n",
    "Example: int(3.14) would return 3, int(\"42\") would return 42.\n",
    "\n",
    "2. Floating-Point Conversion:\n",
    "\n",
    "float(): This function converts a value to a floating-point number. If the value is an integer, it converts it to a floating-point number.\n",
    "If the value is a string representing a number, it parses it as a floating-point number.\n",
    "Example: float(42) would return 42.0, float(\"3.14\") would return 3.14.\n",
    "\n",
    "3.String Conversion:\n",
    "\n",
    "str(): This function converts a value to a string. It returns a string representation of the given value.\n",
    "Example: str(42) would return '42', str(3.14) would return '3.14'."
   ]
  },
  {
   "cell_type": "markdown",
   "metadata": {},
   "source": [
    "## Question 10 \n",
    "Explain why the following expression causes an error and suggest how to fix it:<br>\n",
    "'I have eaten ' + 99 + ' burritos.'\r\n",
    "\n"
   ]
  },
  {
   "cell_type": "markdown",
   "metadata": {},
   "source": [
    "The given expression causes an error because it attempts to concatenate a string ('I have eaten ') with an integer (99) without converting the integer to a string first.\n",
    "In many programming languages, including Python, you cannot directly concatenate different data types like strings and integers.\n",
    "\n",
    "To fix this error, you need to ensure that all parts of the expression are of the same data type (strings in this case) before concatenating them. \n",
    "You can achieve this by converting the integer 99 to a string using the str() function. Here's how you can fix it:\n",
    "\n",
    "'I have eaten ' + str(99) + ' burritos.'\n",
    "\n",
    "By using str(99) to convert the integer 99 to a string, all parts of the expression become strings, allowing them to be concatenated without error."
   ]
  },
  {
   "cell_type": "markdown",
   "metadata": {},
   "source": [
    "## Question 11\n",
    "Write a Python program to calculate the sum of two numbers and print the result.\r\n",
    "gative, or zero."
   ]
  },
  {
   "cell_type": "code",
   "execution_count": 1,
   "metadata": {},
   "outputs": [
    {
     "name": "stdin",
     "output_type": "stream",
     "text": [
      "Enter the first number:  52\n",
      "Enter the second number:  85\n"
     ]
    },
    {
     "name": "stdout",
     "output_type": "stream",
     "text": [
      "The sum of 52.0 and 85.0 is: 137.0\n"
     ]
    }
   ],
   "source": [
    "def sum_of_two_numbers(num1, num2):\n",
    "    # Calculate the sum of the two numbers\n",
    "    result = num1 + num2\n",
    "    return result\n",
    "\n",
    "# Input the numbers from the user\n",
    "num1 = float(input(\"Enter the first number: \"))\n",
    "num2 = float(input(\"Enter the second number: \"))\n",
    "\n",
    "# Calculate the sum using the function\n",
    "sum_result = sum_of_two_numbers(num1, num2)\n",
    "\n",
    "# Print the result\n",
    "print(\"The sum of\", num1, \"and\", num2, \"is:\", sum_result)"
   ]
  },
  {
   "cell_type": "markdown",
   "metadata": {},
   "source": [
    "## Question 12\n",
    "Create a Python program that takes the user's name as input and prints a greeting message.\n",
    "\n"
   ]
  },
  {
   "cell_type": "code",
   "execution_count": 2,
   "metadata": {},
   "outputs": [
    {
     "name": "stdin",
     "output_type": "stream",
     "text": [
      "Enter your name:  52\n"
     ]
    },
    {
     "name": "stdout",
     "output_type": "stream",
     "text": [
      "Hello, 52! Have a great day!\n"
     ]
    }
   ],
   "source": [
    "def greet_user():\n",
    "    # Ask the user for their name\n",
    "    name = input(\"Enter your name: \")\n",
    "\n",
    "    # Print a greeting message\n",
    "    print(\"Hello,\", name + \"! Have a great day!\")\n",
    "\n",
    "\n",
    "# Call the function to execute the program\n",
    "greet_user()"
   ]
  },
  {
   "cell_type": "markdown",
   "metadata": {},
   "source": [
    "## Question 13\n",
    "Write a Python program to calculate the area of a rectangle given its length and width. (Assume length and width are provided as inputs.)\n",
    "\n"
   ]
  },
  {
   "cell_type": "code",
   "execution_count": 3,
   "metadata": {},
   "outputs": [
    {
     "name": "stdin",
     "output_type": "stream",
     "text": [
      "Enter the length of the rectangle:  7\n",
      "Enter the width of the rectangle:  45\n"
     ]
    },
    {
     "name": "stdout",
     "output_type": "stream",
     "text": [
      "The area of the rectangle is: 315.0\n"
     ]
    }
   ],
   "source": [
    "# Get input for length and width\n",
    "length = float(input(\"Enter the length of the rectangle: \"))\n",
    "width = float(input(\"Enter the width of the rectangle: \"))\n",
    "\n",
    "# Calculate area\n",
    "area = length * width\n",
    "\n",
    "# Print the result\n",
    "print(\"The area of the rectangle is:\", area)"
   ]
  },
  {
   "cell_type": "markdown",
   "metadata": {},
   "source": [
    "## Question 14\n",
    "Create a Python program that asks the user for their age and prints out a message saying whether they are a child, teenager, or adult based on their age.\n",
    "\n"
   ]
  },
  {
   "cell_type": "code",
   "execution_count": 5,
   "metadata": {},
   "outputs": [
    {
     "name": "stdin",
     "output_type": "stream",
     "text": [
      "Enter your age:  8\n"
     ]
    },
    {
     "name": "stdout",
     "output_type": "stream",
     "text": [
      "You are a child.\n"
     ]
    }
   ],
   "source": [
    "def classify_age(age):\n",
    "    if age < 0:\n",
    "        return \"Invalid age entered.\"\n",
    "    elif age < 13:\n",
    "        return \"You are a child.\"\n",
    "    elif age < 20:\n",
    "        return \"You are a teenager.\"\n",
    "    else:\n",
    "        return \"You are an adult.\"\n",
    "\n",
    "# Ask the user for their age\n",
    "try:\n",
    "    age = int(input(\"Enter your age: \"))\n",
    "    # Classify the age and print the result\n",
    "    print(classify_age(age))\n",
    "except ValueError:\n",
    "    print(\"Please enter a valid age as a number.\")"
   ]
  },
  {
   "cell_type": "markdown",
   "metadata": {},
   "source": [
    "## Question 15\n",
    "Write a Python program to convert temperature from Celsius to Fahrenheit. (Assume Celsius temperature is provided as input.)\n",
    "\n"
   ]
  },
  {
   "cell_type": "code",
   "execution_count": 6,
   "metadata": {},
   "outputs": [
    {
     "name": "stdin",
     "output_type": "stream",
     "text": [
      "Enter the temperature in Celsius:  45\n"
     ]
    },
    {
     "name": "stdout",
     "output_type": "stream",
     "text": [
      "The temperature in Fahrenheit is: 113.0\n"
     ]
    }
   ],
   "source": [
    "# Get input for Celsius temperature\n",
    "celsius = float(input(\"Enter the temperature in Celsius: \"))\n",
    "\n",
    "# Convert Celsius to Fahrenheit\n",
    "fahrenheit = (celsius * 9/5) + 32\n",
    "\n",
    "# Print the result\n",
    "print(\"The temperature in Fahrenheit is:\", fahrenheit)"
   ]
  },
  {
   "cell_type": "markdown",
   "metadata": {},
   "source": [
    "## Question 16\n",
    "Create a Python program that takes the radius of a circle as input and calculates its area. (Assume the value of pi is 3.14.)\n",
    "\n"
   ]
  },
  {
   "cell_type": "code",
   "execution_count": 7,
   "metadata": {},
   "outputs": [
    {
     "name": "stdin",
     "output_type": "stream",
     "text": [
      "Enter the radius of the circle:  45\n"
     ]
    },
    {
     "name": "stdout",
     "output_type": "stream",
     "text": [
      "The area of the circle with radius 45.0 is: 6358.5\n"
     ]
    }
   ],
   "source": [
    "def calculate_circle_area(radius):\n",
    "    # Calculate the area of the circle using the formula: pi * radius^2\n",
    "    area = 3.14 * radius ** 2\n",
    "    return area\n",
    "\n",
    "# Ask the user for the radius of the circle\n",
    "try:\n",
    "    radius = float(input(\"Enter the radius of the circle: \"))\n",
    "    # Calculate the area of the circle\n",
    "    area = calculate_circle_area(radius)\n",
    "    # Print the result\n",
    "    print(\"The area of the circle with radius\", radius, \"is:\", area)\n",
    "except ValueError:\n",
    "    print(\"Please enter a valid number for the radius.\")"
   ]
  },
  {
   "cell_type": "markdown",
   "metadata": {},
   "source": [
    "## Question 17\n",
    "Write a Python program to find the maximum of two numbers entered by the user.\n",
    "\n"
   ]
  },
  {
   "cell_type": "code",
   "execution_count": 8,
   "metadata": {},
   "outputs": [
    {
     "name": "stdin",
     "output_type": "stream",
     "text": [
      "Enter the first number:  53\n",
      "Enter the second number:  48\n"
     ]
    },
    {
     "name": "stdout",
     "output_type": "stream",
     "text": [
      "The maximum of 53.0 and 48.0 is: 53.0\n"
     ]
    }
   ],
   "source": [
    "# Get input for the two numbers\n",
    "num1 = float(input(\"Enter the first number: \"))\n",
    "num2 = float(input(\"Enter the second number: \"))\n",
    "\n",
    "# Find the maximum using the max() function\n",
    "maximum = max(num1, num2)\n",
    "\n",
    "# Print the maximum\n",
    "print(\"The maximum of\", num1, \"and\", num2, \"is:\", maximum)"
   ]
  },
  {
   "cell_type": "markdown",
   "metadata": {},
   "source": [
    "## Question 18\n",
    "Create a Python program that asks the user to enter two numbers and prints out their product.\n",
    "\n"
   ]
  },
  {
   "cell_type": "code",
   "execution_count": 9,
   "metadata": {},
   "outputs": [
    {
     "name": "stdin",
     "output_type": "stream",
     "text": [
      "Enter the first number:  45\n",
      "Enter the second number:  68\n"
     ]
    },
    {
     "name": "stdout",
     "output_type": "stream",
     "text": [
      "The product of 45.0 and 68.0 is: 3060.0\n"
     ]
    }
   ],
   "source": [
    "def multiply_numbers(num1, num2):\n",
    "    # Calculate the product of the two numbers\n",
    "    product = num1 * num2\n",
    "    return product\n",
    "\n",
    "# Input the numbers from the user\n",
    "try:\n",
    "    num1 = float(input(\"Enter the first number: \"))\n",
    "    num2 = float(input(\"Enter the second number: \"))\n",
    "\n",
    "    # Calculate the product using the function\n",
    "    product_result = multiply_numbers(num1, num2)\n",
    "\n",
    "    # Print the result\n",
    "    print(\"The product of\", num1, \"and\", num2, \"is:\", product_result)\n",
    "except ValueError:\n",
    "    print(\"Please enter valid numbers.\")"
   ]
  },
  {
   "cell_type": "markdown",
   "metadata": {},
   "source": [
    "## Question 19\n",
    "Write a Python program that prompts the user to enter a number and then prints whether the number is positive, negative, or zero."
   ]
  },
  {
   "cell_type": "code",
   "execution_count": 11,
   "metadata": {},
   "outputs": [
    {
     "name": "stdin",
     "output_type": "stream",
     "text": [
      "Enter a number:  -96\n"
     ]
    },
    {
     "name": "stdout",
     "output_type": "stream",
     "text": [
      "The number is negative.\n"
     ]
    }
   ],
   "source": [
    "# Get input from the user\n",
    "number = float(input(\"Enter a number: \"))\n",
    "\n",
    "# Check if the number is positive, negative, or zero\n",
    "if number > 0:\n",
    "    print(\"The number is positive.\")\n",
    "elif number < 0:\n",
    "    print(\"The number is negative.\")\n",
    "else:\n",
    "    print(\"The number is zero.\")"
   ]
  },
  {
   "cell_type": "code",
   "execution_count": null,
   "metadata": {},
   "outputs": [],
   "source": []
  }
 ],
 "metadata": {
  "anaconda-cloud": {},
  "kernelspec": {
   "display_name": "Python 3 (ipykernel)",
   "language": "python",
   "name": "python3"
  },
  "language_info": {
   "codemirror_mode": {
    "name": "ipython",
    "version": 3
   },
   "file_extension": ".py",
   "mimetype": "text/x-python",
   "name": "python",
   "nbconvert_exporter": "python",
   "pygments_lexer": "ipython3",
   "version": "3.11.7"
  }
 },
 "nbformat": 4,
 "nbformat_minor": 4
}
